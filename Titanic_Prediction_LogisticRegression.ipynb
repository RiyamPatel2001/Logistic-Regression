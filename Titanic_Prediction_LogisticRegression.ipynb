{
 "cells": [
  {
   "cell_type": "code",
   "execution_count": 1,
   "id": "7520af07",
   "metadata": {},
   "outputs": [],
   "source": [
    "from sklearn import datasets\n",
    "from sklearn.linear_model import LogisticRegression\n",
    "import numpy as np"
   ]
  },
  {
   "cell_type": "code",
   "execution_count": 13,
   "id": "f6c7844a",
   "metadata": {},
   "outputs": [],
   "source": [
    "train=np.genfromtxt(\"train.csv\",delimiter=',',skip_header=1,dtype='|U5')\n",
    "train1=np.delete(train,[1,2,4,7,9,10],axis=1)"
   ]
  },
  {
   "cell_type": "code",
   "execution_count": 14,
   "id": "0462b32a",
   "metadata": {
    "scrolled": true
   },
   "outputs": [
    {
     "name": "stdout",
     "output_type": "stream",
     "text": [
      "[[ 2.     0.     1.     0.    26.     1.   ]\n",
      " [ 3.     1.     0.     0.     8.05   0.   ]\n",
      " [ 2.     1.     0.     0.    26.     0.   ]\n",
      " ...\n",
      " [ 3.     1.     0.     0.    56.49   1.   ]\n",
      " [ 3.     0.     0.     0.     9.837  0.   ]\n",
      " [ 3.     0.     1.     0.    15.5    1.   ]]\n"
     ]
    }
   ],
   "source": [
    "\n",
    "train1[:,1]=(train1[:,1]=='male')*1\n",
    "train3=train1.astype('float')\n",
    "print(train3)"
   ]
  },
  {
   "cell_type": "code",
   "execution_count": 15,
   "id": "b5a1ba5f",
   "metadata": {},
   "outputs": [],
   "source": [
    "test=np.genfromtxt(\"test.csv\",delimiter=',',skip_header=1,dtype='|U5')\n",
    "test1=np.delete(test,[1,2,4,7,9,10],axis=1)\n",
    "test1[:,1]=(test1[:,1]=='male')*1\n",
    "#test2=np.delete(test1,np.where(test1[:,2]==\"\"),axis=0)\n",
    "test3=test1.astype('float')"
   ]
  },
  {
   "cell_type": "code",
   "execution_count": 16,
   "id": "d65a3160",
   "metadata": {
    "scrolled": false
   },
   "outputs": [
    {
     "name": "stdout",
     "output_type": "stream",
     "text": [
      "[[  2.      1.      1.      1.     36.75 ]\n",
      " [  1.      0.      0.      0.     25.92 ]\n",
      " [  3.      1.      0.      0.      7.737]\n",
      " ...\n",
      " [  1.      0.      1.      0.    108.9  ]\n",
      " [  3.      1.      0.      0.      6.45 ]\n",
      " [  2.      1.      0.      2.     26.   ]]\n",
      "[[ 2.     0.     1.     0.    26.   ]\n",
      " [ 3.     1.     0.     0.     8.05 ]\n",
      " [ 2.     1.     0.     0.    26.   ]\n",
      " ...\n",
      " [ 3.     1.     0.     0.    56.49 ]\n",
      " [ 3.     0.     0.     0.     9.837]\n",
      " [ 3.     0.     1.     0.    15.5  ]]\n",
      "[1. 0. 0. 0. 0. 0. 1. 0. 1. 0. 1. 0. 0. 0. 1. 0. 1. 0. 0. 1. 0. 0. 1. 0.\n",
      " 1. 0. 0. 0. 0. 0. 1. 0. 0. 1. 0. 0. 0. 0. 0. 0. 0. 0. 0. 1. 0. 0. 1. 0.\n",
      " 0. 0. 1. 1. 0. 1. 0. 1. 0. 0. 0. 1. 0. 1. 0. 1. 1. 1. 0. 0. 0. 0. 0. 0.\n",
      " 0. 0. 0. 1. 1. 1. 1. 1. 1. 0. 1. 0. 1. 0. 0. 1. 0. 0. 0. 1. 1. 1. 0. 0.\n",
      " 1. 0. 0. 1. 1. 1. 0. 1. 0. 0. 0. 0. 1. 0. 0. 1. 1. 1. 0. 0. 0. 0. 1. 1.\n",
      " 1. 1. 1. 0. 1. 0. 0. 0. 0. 1. 0. 1. 0. 0. 0. 1. 0. 1. 1. 0. 0. 1. 1. 0.\n",
      " 0. 0. 1. 0. 1. 1. 0. 0. 1. 0. 1. 0. 1. 0. 1. 0. 1. 0. 0. 1. 0. 1. 0. 0.\n",
      " 0. 0. 0. 1. 1. 0. 0. 1. 1. 1. 1. 0. 0. 0. 1. 0. 1. 0. 0. 1. 1. 0. 1. 1.\n",
      " 1. 0. 0. 0. 1. 1. 0. 0. 0. 1. 1. 0. 0. 0. 0. 0. 1. 1. 0. 1. 1. 0. 1. 0.\n",
      " 0. 0. 1. 0. 1. 0. 0. 0. 0. 0. 1. 0. 1. 0. 0. 1. 1. 0. 0. 1. 0. 0. 0. 0.\n",
      " 0. 0. 0. 1. 1. 0. 0. 1. 0. 0. 0. 1. 0. 0. 0. 0. 0. 1. 0. 0. 1. 0. 0. 0.\n",
      " 1. 0. 1. 0. 0. 0. 1. 1. 0. 1. 0. 0. 0. 0. 0. 0. 0. 1. 1. 0. 0. 1. 1. 0.\n",
      " 1. 0. 1. 0. 0. 1. 0. 1. 1. 1. 0. 1. 1. 1. 1. 0. 0. 0. 0. 1. 0. 1. 0. 0.\n",
      " 1. 0. 0. 0. 0. 0. 0. 0. 1. 1. 0. 0. 1. 0. 1. 1. 1. 0. 1. 1. 0. 0. 0. 1.\n",
      " 1. 1. 0. 0. 1. 0. 0. 1. 0. 0. 0. 1. 0. 0. 1. 0. 0. 0. 1. 0. 0. 0. 1. 1.\n",
      " 1. 0. 0. 0. 0. 0. 0. 0. 0. 0. 0. 1. 0. 0. 0. 0. 1. 1. 1. 0. 0. 0. 0. 1.\n",
      " 0. 0. 1. 1. 0. 0. 1. 1. 1. 0. 0. 0. 0. 1. 0. 1. 1. 1. 0. 1. 0. 1. 1. 1.\n",
      " 1. 1. 0. 1. 1. 1. 0. 1. 0. 1. 0. 1. 0. 0. 0. 0. 0. 0. 1. 1. 1. 1. 0. 0.\n",
      " 1. 0. 1. 1. 0. 1. 1. 1. 1. 0. 0. 0. 0. 1. 0. 0. 1. 1. 1. 0. 1. 0. 0. 1.\n",
      " 1. 0. 1. 0. 0. 0. 0. 1. 1. 0. 1. 0. 0. 1. 1. 0. 0. 0. 0. 0. 0. 0. 0. 0.\n",
      " 1. 0. 0. 0. 0. 0. 0. 0. 1. 1. 0. 0. 1. 0. 1. 0. 1. 0. 0. 0. 1. 1. 0. 0.\n",
      " 1. 0. 0. 0. 0. 0. 1. 0. 0. 1. 1. 0. 0. 0. 0. 0. 1. 0. 0. 0. 0. 1. 0. 1.\n",
      " 1. 1. 1. 0. 1. 0. 1. 1. 1. 1. 1. 0. 0. 0. 0. 0. 0. 0. 0. 1. 0. 0. 0. 1.\n",
      " 0. 0. 0. 0. 1. 0. 1. 1. 0. 1. 0. 1. 0. 0. 1. 1. 0. 0. 0. 0. 1. 0. 0. 0.\n",
      " 1. 1. 1. 1. 0. 0. 0. 0. 0. 0. 1. 1. 0. 1. 1. 1. 1. 1. 1. 0. 0. 1. 0. 0.\n",
      " 0. 0. 1. 1. 0. 1. 1. 0. 0. 0. 0. 1. 0. 0. 1. 0. 1. 0. 0. 0. 1. 0. 1. 1.\n",
      " 0. 1. 1. 1. 0. 1. 0. 0. 0. 0. 1. 1. 1. 1. 0. 1. 0. 1. 1. 0. 0. 1. 0. 0.\n",
      " 0. 0. 0. 0. 1. 0. 0. 1. 0. 0. 1. 0. 1. 1. 0. 1. 0. 1. 0. 1.]\n"
     ]
    }
   ],
   "source": [
    "##CONVERT ARRAY \n",
    "test_i=test3\n",
    "train_i=train3[:,0:-1]\n",
    "train_o=train3[:,-1]\n",
    "\n",
    "print(test_i)\n",
    "print(train_i)\n",
    "print(train_o)"
   ]
  },
  {
   "cell_type": "code",
   "execution_count": 17,
   "id": "0cd3f2a9",
   "metadata": {},
   "outputs": [
    {
     "data": {
      "text/plain": [
       "LogisticRegression()"
      ]
     },
     "execution_count": 17,
     "metadata": {},
     "output_type": "execute_result"
    }
   ],
   "source": [
    "clf=LogisticRegression()\n",
    "clf.fit(train_i,train_o)"
   ]
  },
  {
   "cell_type": "code",
   "execution_count": 18,
   "id": "a90df4ce",
   "metadata": {},
   "outputs": [
    {
     "data": {
      "text/plain": [
       "0.7904191616766467"
      ]
     },
     "execution_count": 18,
     "metadata": {},
     "output_type": "execute_result"
    }
   ],
   "source": [
    "clf.score(train_i,train_o)"
   ]
  },
  {
   "cell_type": "code",
   "execution_count": 19,
   "id": "c547469a",
   "metadata": {},
   "outputs": [],
   "source": [
    "test_o=clf.predict(test_i)"
   ]
  },
  {
   "cell_type": "code",
   "execution_count": 20,
   "id": "8da03496",
   "metadata": {},
   "outputs": [
    {
     "name": "stdout",
     "output_type": "stream",
     "text": [
      "223\n"
     ]
    }
   ],
   "source": [
    "test_o=test_o.astype('int')\n",
    "print(len(test_o))"
   ]
  },
  {
   "cell_type": "code",
   "execution_count": 21,
   "id": "da8577ea",
   "metadata": {},
   "outputs": [
    {
     "name": "stdout",
     "output_type": "stream",
     "text": [
      "[0 1 0 1 0 0 0 0 1 0 1 0 1 1 0 0 0 0 0 1 1 0 1 1 0 0 0 0 1 1 0 0 0 0 0 1 1\n",
      " 0 0 0 1 0 0 0 1 0 0 1 0 0 0 1 1 1 0 0 0 0 0 0 0 0 1 1 1 0 0 0 1 0 0 0 0 0\n",
      " 0 1 1 0 0 0 0 1 0 0 0 1 0 0 0 0 1 0 0 1 0 0 0 0 0 1 1 0 1 0 1 1 0 0 0 0 0\n",
      " 1 1 0 1 0 0 1 0 0 0 0 0 0 0 0 0 0 0 0 0 0 0 0 0 0 1 0 1 0 0 0 0 0 0 0 0 0\n",
      " 1 1 1 0 0 0 1 0 0 1 0 0 0 1 1 1 1 0 0 0 1 1 1 1 1 0 1 0 0 0 0 1 0 0 0 1 1\n",
      " 0 1 0 1 0 0 0 1 0 0 1 1 1 1 1 0 0 0 0 0 0 0 0 1 0 0 1 0 0 1 1 0 0 0 0 1 0\n",
      " 0]\n"
     ]
    }
   ],
   "source": [
    "print(test_o)"
   ]
  },
  {
   "cell_type": "code",
   "execution_count": 22,
   "id": "7f365bc2",
   "metadata": {},
   "outputs": [],
   "source": [
    "np.savetxt(\"output.csv\",test_o,delimiter=',')"
   ]
  }
 ],
 "metadata": {
  "kernelspec": {
   "display_name": "Python 3 (ipykernel)",
   "language": "python",
   "name": "python3"
  },
  "language_info": {
   "codemirror_mode": {
    "name": "ipython",
    "version": 3
   },
   "file_extension": ".py",
   "mimetype": "text/x-python",
   "name": "python",
   "nbconvert_exporter": "python",
   "pygments_lexer": "ipython3",
   "version": "3.9.12"
  }
 },
 "nbformat": 4,
 "nbformat_minor": 5
}
